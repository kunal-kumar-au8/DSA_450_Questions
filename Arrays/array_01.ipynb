{
 "metadata": {
  "language_info": {
   "codemirror_mode": {
    "name": "ipython",
    "version": 3
   },
   "file_extension": ".py",
   "mimetype": "text/x-python",
   "name": "python",
   "nbconvert_exporter": "python",
   "pygments_lexer": "ipython3",
   "version": "3.7.4-final"
  },
  "orig_nbformat": 2,
  "kernelspec": {
   "name": "python37464bit5541cf7d21944f5fada451c58fced505",
   "display_name": "Python 3.7.4 64-bit"
  }
 },
 "nbformat": 4,
 "nbformat_minor": 2,
 "cells": [
  {
   "cell_type": "code",
   "execution_count": 7,
   "metadata": {},
   "outputs": [
    {
     "output_type": "stream",
     "name": "stdout",
     "text": [
      "[6, 5, 4, 3, 2, 1]\n"
     ]
    }
   ],
   "source": [
    "# Write a program to reverse an array or string\n",
    "\n",
    "#using itration \n",
    "def reverse_arr(A,start,end):\n",
    "    while start < end:\n",
    "        A[start],A[end] = A[end],A[start]\n",
    "        start += 1\n",
    "        end -= 1\n",
    "A = [1,2,3,4,5,6]\n",
    "reverse_arr(A,0,5)\n",
    "print(A)"
   ]
  },
  {
   "cell_type": "code",
   "execution_count": 12,
   "metadata": {},
   "outputs": [
    {
     "output_type": "stream",
     "name": "stdout",
     "text": [
      "[6, 5, 4, 3, 2, 1]\n"
     ]
    }
   ],
   "source": [
    "# Write a program to reverse an array or string\n",
    "\n",
    "#using recurvive\n",
    "def reverse_arr(A,start,end):\n",
    "    if start >= end:\n",
    "        return\n",
    "    A[start],A[end] = A[end],A[start]\n",
    "    reverse_arr(A,start+1,end-1)\n",
    "A = [1,2,3,4,5,6]\n",
    "reverse_arr(A,0,5)\n",
    "print(A)"
   ]
  },
  {
   "cell_type": "code",
   "execution_count": 14,
   "metadata": {},
   "outputs": [
    {
     "output_type": "execute_result",
     "data": {
      "text/plain": [
       "[6, 5, 4, 3, 2, 1]"
      ]
     },
     "metadata": {},
     "execution_count": 14
    }
   ],
   "source": [
    "# Write a program to reverse an array or string\n",
    "\n",
    "#using python slicing\n",
    "def reverse_arr(A):\n",
    "    return(A[::-1])\n",
    "A = [1,2,3,4,5,6]\n",
    "reverse_arr(A)"
   ]
  },
  {
   "cell_type": "code",
   "execution_count": null,
   "metadata": {},
   "outputs": [],
   "source": []
  }
 ]
}