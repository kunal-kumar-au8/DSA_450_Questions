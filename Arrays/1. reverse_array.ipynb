{
 "cells": [
  {
   "cell_type": "code",
   "execution_count": 18,
   "metadata": {},
   "outputs": [
    {
     "name": "stdout",
     "output_type": "stream",
     "text": [
      "[7, 5, 4, 3, 2, 1]\n"
     ]
    }
   ],
   "source": [
    "# Write a program to reverse an array or string \n",
    "\n",
    "#using itration \n",
    "def reverse_arr(A,start,end):\n",
    "    while start < end:\n",
    "        A[start],A[end] = A[end],A[start]\n",
    "        start += 1\n",
    "        end -= 1\n",
    "A = [1,2,3,4,5,7]\n",
    "reverse_arr(A,0,5)\n",
    "print(A)"
   ]
  },
  {
   "cell_type": "code",
   "execution_count": 12,
   "metadata": {},
   "outputs": [
    {
     "name": "stdout",
     "output_type": "stream",
     "text": [
      "[6, 5, 4, 3, 2, 1]\n"
     ]
    }
   ],
   "source": [
    "# Write a program to reverse an array or string\n",
    "\n",
    "#using recurvive\n",
    "def reverse_arr(A,start,end):\n",
    "    if start >= end:\n",
    "        return\n",
    "    A[start],A[end] = A[end],A[start]\n",
    "    reverse_arr(A,start+1,end-1)\n",
    "A = [1,2,3,4,5,6]\n",
    "reverse_arr(A,0,5)\n",
    "print(A)"
   ]
  },
  {
   "cell_type": "code",
   "execution_count": 14,
   "metadata": {},
   "outputs": [
    {
     "data": {
      "text/plain": [
       "[6, 5, 4, 3, 2, 1]"
      ]
     },
     "execution_count": 14,
     "metadata": {},
     "output_type": "execute_result"
    }
   ],
   "source": [
    "# Write a program to reverse an array or string\n",
    "\n",
    "#using python slicing\n",
    "def reverse_arr(A):\n",
    "    return(A[::-1])\n",
    "A = [1,2,3,4,5,6]\n",
    "reverse_arr(A)"
   ]
  },
  {
   "cell_type": "code",
   "execution_count": 29,
   "metadata": {},
   "outputs": [
    {
     "data": {
      "text/plain": [
       "'kunal'"
      ]
     },
     "execution_count": 29,
     "metadata": {},
     "output_type": "execute_result"
    }
   ],
   "source": [
    "# reverse string \n",
    "def reverseWord(s):\n",
    "    temp = ''\n",
    "    for char in s:\n",
    "        temp = char + temp\n",
    "    return temp\n",
    "reverseWord('kunal')"
   ]
  }
 ],
 "metadata": {
  "interpreter": {
   "hash": "31f2aee4e71d21fbe5cf8b01ff0e069b9275f58929596ceb00d14d90e3e16cd6"
  },
  "kernelspec": {
   "display_name": "Python 3.7.4 64-bit",
   "language": "python",
   "name": "python3"
  },
  "language_info": {
   "codemirror_mode": {
    "name": "ipython",
    "version": 3
   },
   "file_extension": ".py",
   "mimetype": "text/x-python",
   "name": "python",
   "nbconvert_exporter": "python",
   "pygments_lexer": "ipython3",
   "version": "3.8.9"
  },
  "orig_nbformat": 2
 },
 "nbformat": 4,
 "nbformat_minor": 2
}
